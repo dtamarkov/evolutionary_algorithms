{
 "cells": [
  {
   "cell_type": "code",
   "execution_count": 1,
   "metadata": {
    "collapsed": false
   },
   "outputs": [
    {
     "name": "stdout",
     "output_type": "stream",
     "text": [
      "(array([[7],\n",
      "       [8],\n",
      "       [2],\n",
      "       [1]]), array([7, 8, 2, 1]))\n",
      "(array([[2],\n",
      "       [1],\n",
      "       [5],\n",
      "       [4]]), array([2, 1, 5, 4]))\n",
      "(array([[7],\n",
      "       [3],\n",
      "       [5],\n",
      "       [2]]), array([7, 3, 5, 2]))\n",
      "[ 8.  5.  7.]\n"
     ]
    }
   ],
   "source": [
    "import selections as s\n",
    "import numpy as np\n",
    "\n",
    "population = np.array([[1],[2],[3],[4],[5],[2],[7],[8]])\n",
    "fitness = np.array([1,2,3,4,5,2,7,8])\n",
    "\n",
    "print (s.tournament(population, fitness, 4, 1, 3))"
   ]
  },
  {
   "cell_type": "code",
   "execution_count": 2,
   "metadata": {
    "collapsed": false
   },
   "outputs": [
    {
     "name": "stdout",
     "output_type": "stream",
     "text": [
      "4\n"
     ]
    },
    {
     "data": {
      "text/plain": [
       "array([[1, 3, 2, 4, 8, 7, 5, 6],\n",
       "       [3, 1, 5, 6, 8, 7, 2, 4]])"
      ]
     },
     "execution_count": 2,
     "metadata": {},
     "output_type": "execute_result"
    }
   ],
   "source": [
    "import crossovers as c\n",
    "a = [1,3,2,4, 5,8,7,6]\n",
    "b = [3,1,5,6, 2,8,4,7]\n",
    "x = np.array([a,b])\n",
    "c.simple_permutation(x)\n"
   ]
  }
 ],
 "metadata": {
  "kernelspec": {
   "display_name": "Python [conda env:py27]",
   "language": "python",
   "name": "conda-env-py27-py"
  },
  "language_info": {
   "codemirror_mode": {
    "name": "ipython",
    "version": 2
   },
   "file_extension": ".py",
   "mimetype": "text/x-python",
   "name": "python",
   "nbconvert_exporter": "python",
   "pygments_lexer": "ipython2",
   "version": "2.7.12"
  }
 },
 "nbformat": 4,
 "nbformat_minor": 2
}
