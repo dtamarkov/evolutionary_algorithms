{
 "cells": [
  {
   "cell_type": "code",
   "execution_count": 1,
   "metadata": {
    "collapsed": false,
    "deletable": true,
    "editable": true
   },
   "outputs": [
    {
     "name": "stdout",
     "output_type": "stream",
     "text": [
      "[[ 3.]\n",
      " [ 8.]\n",
      " [ 5.]]\n"
     ]
    }
   ],
   "source": [
    "import selections as s\n",
    "import numpy as np\n",
    "\n",
    "population = np.array([[1],[2],[3],[4],[5],[2],[7],[8]])\n",
    "fitness = np.array([1,2,3,4,5,2,7,8])\n",
    "\n",
    "print (s.tournament(population, fitness, 4, 1, 3))"
   ]
  },
  {
   "cell_type": "code",
   "execution_count": 2,
   "metadata": {
    "collapsed": false,
    "deletable": true,
    "editable": true
   },
   "outputs": [
    {
     "data": {
      "text/plain": [
       "array([[1, 1, 5, 6, 2, 8, 4, 7],\n",
       "       [3, 3, 2, 4, 5, 8, 7, 6]])"
      ]
     },
     "execution_count": 2,
     "metadata": {},
     "output_type": "execute_result"
    }
   ],
   "source": [
    "import crossovers as c\n",
    "a = [1,3,2,4, 5,8,7,6]\n",
    "b = [3,1,5,6, 2,8,4,7]\n",
    "x = np.array([a,b])\n",
    "c.one_point(x, 1)\n"
   ]
  }
 ],
 "metadata": {
  "kernelspec": {
   "display_name": "Python [conda env:py27]",
   "language": "python",
   "name": "conda-env-py27-py"
  },
  "language_info": {
   "codemirror_mode": {
    "name": "ipython",
    "version": 2
   },
   "file_extension": ".py",
   "mimetype": "text/x-python",
   "name": "python",
   "nbconvert_exporter": "python",
   "pygments_lexer": "ipython2",
   "version": "2.7.12"
  }
 },
 "nbformat": 4,
 "nbformat_minor": 2
}
