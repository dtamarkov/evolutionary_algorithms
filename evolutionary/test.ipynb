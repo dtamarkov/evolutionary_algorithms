{
 "cells": [
  {
   "cell_type": "code",
   "execution_count": 1,
   "metadata": {
    "collapsed": false,
    "deletable": true,
    "editable": true
   },
   "outputs": [
    {
     "name": "stdout",
     "output_type": "stream",
     "text": [
      "[[ 3.]\n",
      " [ 8.]\n",
      " [ 5.]]\n"
     ]
    }
   ],
   "source": [
    "import selections as s\n",
    "import numpy as np\n",
    "\n",
    "population = np.array([[1],[2],[3],[4],[5],[2],[7],[8]])\n",
    "fitness = np.array([1,2,3,4,5,2,7,8])\n",
    "\n",
    "print (s.tournament(population, fitness, 4, 1, 3))"
   ]
  },
  {
   "cell_type": "code",
   "execution_count": 4,
   "metadata": {
    "collapsed": false,
    "deletable": true,
    "editable": true
   },
   "outputs": [
    {
     "name": "stdout",
     "output_type": "stream",
     "text": [
      "Initial samples [[1 3 2 4 5 8 7 6]\n",
      " [3 1 5 6 2 8 4 7]]\n",
      "One point x-over [[1 3 2 4 5 8 4 7]\n",
      " [3 1 5 6 2 8 7 6]]\n",
      "One point x-over parents are permutations [[1 3 5 6 2 8 4 7]\n",
      " [3 1 5 6 2 8 4 7]]\n",
      "Two point x-over [[1 3 5 6 2 8 7 6]\n",
      " [3 1 2 4 5 8 4 7]]\n"
     ]
    }
   ],
   "source": [
    "# Test crossovers\n",
    "import crossovers as c\n",
    "import numpy as np\n",
    "\n",
    "a = [1,3,2,4, 5,8,7,6]\n",
    "b = [3,1,5,6, 2,8,4,7]\n",
    "x = np.array([a,b])\n",
    "\n",
    "print \"Initial samples\", x\n",
    "print \"One point x-over\", c.one_point(x.copy(), 1)\n",
    "print \"One point x-over parents are permutations\", c.one_point_permutation(x.copy(), 1)\n",
    "print \"Two point x-over\", c.two_point(x.copy(),1)"
   ]
  }
 ],
 "metadata": {
  "kernelspec": {
   "display_name": "Python [conda env:py27]",
   "language": "python",
   "name": "conda-env-py27-py"
  },
  "language_info": {
   "codemirror_mode": {
    "name": "ipython",
    "version": 2
   },
   "file_extension": ".py",
   "mimetype": "text/x-python",
   "name": "python",
   "nbconvert_exporter": "python",
   "pygments_lexer": "ipython2",
   "version": "2.7.12"
  }
 },
 "nbformat": 4,
 "nbformat_minor": 2
}
