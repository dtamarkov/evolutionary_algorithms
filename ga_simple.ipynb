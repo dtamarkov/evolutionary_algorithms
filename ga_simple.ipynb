{
 "cells": [
  {
   "cell_type": "code",
   "execution_count": 1,
   "metadata": {
    "collapsed": false,
    "deletable": true,
    "editable": true
   },
   "outputs": [
    {
     "name": "stdout",
     "output_type": "stream",
     "text": [
      "Iteration 0 Best 17.2785716122 Mean 21.100954563 Median 21.1963220804 Worst 21.6973459966\n",
      "Iteration 50 Best 8.41299927283 Mean 10.3996930624 Median 10.4190592686 Worst 11.9275756468\n",
      "Iteration 100 Best 4.23743885952 Mean 4.77299751444 Median 4.80127389859 Worst 4.97657568321\n",
      "Iteration 150 Best 3.40005965629 Mean 3.40005965629 Median 3.40005965629 Worst 3.40005965629\n",
      "Iteration 200 Best 3.40005965629 Mean 3.40005965629 Median 3.40005965629 Worst 3.40005965629\n",
      "Iteration 250 Best 3.40005965629 Mean 3.40005965629 Median 3.40005965629 Worst 3.40005965629\n",
      "Iteration 300 Best 3.40005965629 Mean 3.40005965629 Median 3.40005965629 Worst 3.40005965629\n",
      "Iteration 350 Best 3.40005965629 Mean 3.40005965629 Median 3.40005965629 Worst 3.40005965629\n",
      "Iteration 400 Best 3.40005965629 Mean 3.40005965629 Median 3.40005965629 Worst 3.40005965629\n",
      "Iteration 450 Best 3.40005965629 Mean 3.40005965629 Median 3.40005965629 Worst 3.40005965629\n",
      "Iteration 500 Best 3.40005965629 Mean 3.40005965629 Median 3.40005965629 Worst 3.40005965629\n",
      "Iteration 550 Best 3.40005965629 Mean 3.40005965629 Median 3.40005965629 Worst 3.40005965629\n",
      "Iteration 600 Best 3.40005965629 Mean 3.40005965629 Median 3.40005965629 Worst 3.40005965629\n",
      "Iteration 650 Best 3.40005965629 Mean 3.40005965629 Median 3.40005965629 Worst 3.40005965629\n",
      "Iteration 700 Best 3.40005965629 Mean 3.40005965629 Median 3.40005965629 Worst 3.40005965629\n",
      "Iteration 750 Best 3.40005965629 Mean 3.40005965629 Median 3.40005965629 Worst 3.40005965629\n",
      "Iteration 800 Best 3.40005965629 Mean 3.40005965629 Median 3.40005965629 Worst 3.40005965629\n",
      "Iteration 850 Best 3.40005965629 Mean 3.40005965629 Median 3.40005965629 Worst 3.40005965629\n",
      "Iteration 900 Best 3.40005965629 Mean 3.40005965629 Median 3.40005965629 Worst 3.40005965629\n",
      "Iteration 950 Best 3.40005965629 Mean 3.40005965629 Median 3.40005965629 Worst 3.40005965629\n"
     ]
    },
    {
     "data": {
      "image/png": "[encoded data removed]",
      "text/plain": [
       "<matplotlib.figure.Figure at 0x76fdda0>"
      ]
     },
     "metadata": {},
     "output_type": "display_data"
    }
   ],
   "source": [
    "%matplotlib inline\n",
    "\n",
    "import numpy as np\n",
    "import matplotlib.pyplot as plt\n",
    "import evolutionary.genetic_algorithms.initializations as initialization\n",
    "import evolutionary.genetic_algorithms.selections as selection\n",
    "import evolutionary.genetic_algorithms.mutations as mutation\n",
    "import evolutionary.genetic_algorithms.crossovers as crossover\n",
    "\n",
    "import evolutionary.optim_functions as functions\n",
    "from evolutionary import Population\n",
    "\n",
    "# Initalize vars\n",
    "n_dimensions = 10\n",
    "n_population = 100\n",
    "n_iterations = 1000\n",
    "lower = -32\n",
    "upper = 32\n",
    "\n",
    "# Log results var\n",
    "mean = np.array([])\n",
    "median = np.array([])\n",
    "worst = np.array([])\n",
    "best = np.array([])\n",
    "\n",
    "# Define the fitness function\n",
    "fitness_function = functions.Ackley().evaluate\n",
    "\n",
    "# Create the class Population and initialize its chromosomes\n",
    "population = Population(chromosomes=initialization.uniform(n_population, lower, upper, n_dimensions))\n",
    "\n",
    "\n",
    "# Iterate simulating the evolutionary process\n",
    "for i in range(n_iterations):\n",
    "    # Apply the function in each row to get the array of fitness\n",
    "    fitness = fitness_function(population.chromosomes)\n",
    "    \n",
    "    # Log the values after the iteration  \n",
    "    mean = np.append(mean, np.mean(fitness))\n",
    "    median = np.append(median, np.median(fitness))\n",
    "    worst = np.append(worst, np.max(fitness))\n",
    "    best = np.append(best, np.min(fitness))\n",
    "    \n",
    "    if i%50 == 0:\n",
    "        print \"Iteration\", i, \"Best\", best[i], \"Mean\", mean[i], \"Median\", median[i], \"Worst\", worst[i]\n",
    "    \n",
    "    # Do the evolutionary process: selection -> crossover -> mutation -> \n",
    "    parents = selection.tournament(population.chromosomes, fitness, 5, 2, iterations=5 ,minimize=True)\n",
    "    children = crossover.two_point(parents, 1)\n",
    "    children = mutation.pos_swap(children, 0.8)#, upper, lower, i, n_iterations)\n",
    "    population.chromosomes = selection.parent_replace(population.chromosomes, fitness, children)\n",
    "\n",
    "if i > 0:\n",
    "    x = np.arange(0, n_iterations)\n",
    "    plt.plot(x, mean)\n",
    "    plt.plot(x, median)\n",
    "    plt.plot(x, worst,)\n",
    "    plt.plot(x, best)\n",
    "    plt.legend(['Mean', 'Median', 'Worst value', 'Best value'], loc='upper left')\n",
    "\n",
    "    plt.show()"
   ]
  },
  {
   "cell_type": "code",
   "execution_count": null,
   "metadata": {
    "collapsed": false,
    "deletable": true,
    "editable": true
   },
   "outputs": [],
   "source": [
    "import evolutionary.genetic_algorithms.crossovers as crossover\n",
    "import numpy as np\n",
    "parents = np.array([[1,2,3,4], [2,3,4,5], [3,2,1,5],[4,5,3,2],[5,3,1,2]])\n",
    "\n",
    "crossover.one_point_permutation(parents, 1)"
   ]
  }
 ],
 "metadata": {
  "kernelspec": {
   "display_name": "Python [conda env:py27]",
   "language": "python",
   "name": "conda-env-py27-py"
  },
  "language_info": {
   "codemirror_mode": {
    "name": "ipython",
    "version": 2
   },
   "file_extension": ".py",
   "mimetype": "text/x-python",
   "name": "python",
   "nbconvert_exporter": "python",
   "pygments_lexer": "ipython2",
   "version": "2.7.12"
  }
 },
 "nbformat": 4,
 "nbformat_minor": 2
}
