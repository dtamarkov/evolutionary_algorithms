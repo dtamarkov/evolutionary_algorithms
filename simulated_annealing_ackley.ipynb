{
 "cells": [
  {
   "cell_type": "markdown",
   "metadata": {},
   "source": [
    "# Simulated annealing problem for finding global minima on Ackley's function"
   ]
  },
  {
   "cell_type": "markdown",
   "metadata": {},
   "source": [
    "## Define the probability function \n",
    "\n",
    "Simulated annealing (SA) is a method for solving unconstrained and bound-constrained optimization problems. The method models the physical process of heating a material and then slowly lowering the temperature to decrease defects, thus minimizing the system energy.\n",
    "\n",
    "The temperature of the system reduces over the iterations. The lower temperature the system has, the less probability to pick a worst solution. We consider the probability as: $e^{\\frac{current - new}{temperature}}$"
   ]
  },
  {
   "cell_type": "code",
   "execution_count": 3,
   "metadata": {
    "collapsed": true
   },
   "outputs": [],
   "source": [
    "def prob(temperature, oldF, newF):\n",
    "    # The temperature of the system reduces over the iterations. The lower\n",
    "    # temperature the system has, the less probability to pick a worst solution.\n",
    "    return np.exp((oldF-newF)/temperature)"
   ]
  },
  {
   "cell_type": "markdown",
   "metadata": {},
   "source": [
    "## Main code"
   ]
  },
  {
   "cell_type": "code",
   "execution_count": 10,
   "metadata": {
    "collapsed": false
   },
   "outputs": [
    {
     "name": "stdout",
     "output_type": "stream",
     "text": [
      "[  1.02094904e-02  -7.86243756e-03  -3.09388181e-03   8.89727292e-04\n",
      "  -1.51351647e+00   3.23997248e+02   1.23152789e-02  -4.44518006e-06\n",
      "   1.02439300e-03   1.20892669e-05] 20.0111049018\n"
     ]
    },
    {
     "data": {
      "image/png": "[encoded data removed]",
      "text/plain": [
       "<matplotlib.figure.Figure at 0x64b2da0>"
      ]
     },
     "metadata": {},
     "output_type": "display_data"
    }
   ],
   "source": [
    "from __future__ import division\n",
    "from matplotlib.pyplot import *\n",
    "import numpy as np\n",
    "import Ackley as ackley\n",
    "\n",
    "%matplotlib inline\n",
    "\n",
    "unif = np.random.uniform\n",
    "\n",
    "# Define the population elements (n), and the lower (l) and upper (u) edges \n",
    "# for the exploration\n",
    "n = 10\n",
    "l = -32\n",
    "u = 32\n",
    "\n",
    "# Initialize vars as the iteration number, parameters for the simulated annealing and\n",
    "# an array to store the fitness in each iteration\n",
    "n_iter = 10000\n",
    "temperature = 1000\n",
    "alpha = 0.99\n",
    "vfos = np.empty(0)\n",
    "\n",
    "# Create the current solution and get its fitness\n",
    "current_sol = unif(l, u, n)\n",
    "current_vfo = ackley.evaluate(current_sol)\n",
    "\n",
    "# Iterate \n",
    "for i in range(n_iter):\n",
    "    # Create a new solution which changes in about 25% of the current one and \n",
    "    # compute its fitness\n",
    "    new_sol = current_sol + 0.25 * current_sol * unif(-1, 1, n)\n",
    "    new_vfo = ackley.evaluate(new_sol)\n",
    "    \n",
    "    # Update the solution and fitness ff the new solution is better than the current\n",
    "    # or with a probability given by the prob function\n",
    "    if new_vfo < current_vfo or unif() < prob(temperature, current_vfo, new_vfo):\n",
    "        current_sol = new_sol\n",
    "        current_vfo = new_vfo\n",
    "    \n",
    "    # Store the fitness and update the temperature\n",
    "    vfos = np.append(vfos, current_vfo)\n",
    "    temperature *= alpha\n",
    "    \n",
    "# Plot the fitness over time and print the last solution and its fitness\n",
    "plot(np.arange(n_iter), vfos)\n",
    "print current_sol, current_vfo"
   ]
  }
 ],
 "metadata": {
  "kernelspec": {
   "display_name": "Python [conda env:py27]",
   "language": "python",
   "name": "conda-env-py27-py"
  },
  "language_info": {
   "codemirror_mode": {
    "name": "ipython",
    "version": 2
   },
   "file_extension": ".py",
   "mimetype": "text/x-python",
   "name": "python",
   "nbconvert_exporter": "python",
   "pygments_lexer": "ipython2",
   "version": "2.7.12"
  }
 },
 "nbformat": 4,
 "nbformat_minor": 2
}
