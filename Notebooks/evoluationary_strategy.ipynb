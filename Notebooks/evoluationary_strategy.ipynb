{
 "cells": [
  {
   "cell_type": "code",
   "execution_count": 3,
   "metadata": {
    "collapsed": false
   },
   "outputs": [],
   "source": [
    "%matplotlib inline\n",
    "\n",
    "import numpy as np\n",
    "import matplotlib.pyplot as plt\n",
    "import evolutionary.mutations as mutation\n",
    "import evolutionary.crossovers as crossover\n",
    "import evolutionary.selections as selection\n",
    "import evolutionary.initializations as initialization\n",
    "import evolutionary.optim_functions as functions\n",
    "\n",
    "# Initalize vars\n",
    "n_dimensions = 2\n",
    "n_population = 100\n",
    "n_iterations = 1000\n",
    "lower = -32\n",
    "upper = 32\n",
    "\n",
    "# Log results var\n",
    "mean = np.empty(0)\n",
    "median = np.empty(0)\n",
    "worst = np.empty(0)\n",
    "best = np.empty(0)\n",
    "\n",
    "# Define the fitness function\n",
    "fitness_function = functions.Ackley()\n",
    "\n",
    "# Create all the population \n",
    "population = initialization.uniform(n_population, lower, upper, n_dimensions)\n",
    "chromosome = {}\n",
    "chromosome[\"population\"] = population\n",
    "chromosome[\"sigma\"] = np.random.uniform(0, (upper-lower)/10)\n"
   ]
  },
  {
   "cell_type": "code",
   "execution_count": null,
   "metadata": {
    "collapsed": true
   },
   "outputs": [],
   "source": [
    "# Iterate simulating the evolutionary process\n",
    "for i in range(n_iterations):\n",
    "    # Apply the function in each row to get the array of fitness\n",
    "    fitness = fitness_function.evaluate(chromosome[\"population\"])\n",
    "    \n",
    "    # Log the values after the iteration  \n",
    "    mean = np.append(mean, np.mean(fitness))\n",
    "    median = np.append(median, np.median(fitness))\n",
    "    worst = np.append(worst, np.max(fitness))\n",
    "    best = np.append(best, np.min(fitness))\n",
    "    \n",
    "    if i%50 == 0:\n",
    "        print \"Iteration\", i, \"Best\", best[i], \"Mean\", mean[i], \"Median\", median[i], \"Worst\", worst[i]\n",
    "    \n",
    "    # Do the evolutionary process: selection -> crossover -> mutation -> \n",
    "    parents = selection.tournament(population, fitness, 8, 2, minimize=True)\n",
    "    children = crossover.one_point(parents, 1)\n",
    "    children = mutation.not_uniform(children, 0.8, upper, lower, i, n_iterations)\n",
    "    children_fitness= fitness_function(children)\n",
    "    population = selection.parent_replace(population, fitness, children)\n",
    "\n",
    "if i > 0:\n",
    "    x = np.arange(0,i+1)\n",
    "    plt.plot(x, mean)\n",
    "    plt.plot(x, median)\n",
    "    plt.plot(x, worst,)\n",
    "    plt.plot(x, best)\n",
    "    plt.legend(['Mean', 'Median', 'Worst value', 'Best value'], loc='upper left')\n",
    "\n",
    "    plt.show()"
   ]
  }
 ],
 "metadata": {
  "kernelspec": {
   "display_name": "Python [conda env:py27]",
   "language": "python",
   "name": "conda-env-py27-py"
  },
  "language_info": {
   "codemirror_mode": {
    "name": "ipython",
    "version": 2
   },
   "file_extension": ".py",
   "mimetype": "text/x-python",
   "name": "python",
   "nbconvert_exporter": "python",
   "pygments_lexer": "ipython2",
   "version": "2.7.12"
  }
 },
 "nbformat": 4,
 "nbformat_minor": 2
}
